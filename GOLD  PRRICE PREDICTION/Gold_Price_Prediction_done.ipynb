{
 "cells": [
  {
   "cell_type": "markdown",
   "metadata": {
    "id": "vkDi0Br6dn9G"
   },
   "source": [
    "# Gold Price Prediction\n",
    "For this analysis, we will be using data from kaggle to predict the gold prices\n",
    "\n",
    "Problem Statement: Our objective is to predict the cost of gold prices using machine learning regression model"
   ]
  },
  {
   "cell_type": "markdown",
   "metadata": {
    "id": "i1h7LAlVa7Gu"
   },
   "source": [
    "Importing the Libraries"
   ]
  },
  {
   "cell_type": "code",
   "execution_count": 1,
   "metadata": {
    "id": "d2o7jdWHXE6K"
   },
   "outputs": [],
   "source": [
    "import numpy as np \n",
    "import pandas as pd\n",
    "\n",
    "import matplotlib.pyplot as plt\n",
    "\n",
    "from sklearn.model_selection import train_test_split \n",
    "\n",
    "from sklearn.ensemble import RandomForestRegressor \n",
    "\n",
    "from sklearn import metrics "
   ]
  },
  {
   "cell_type": "markdown",
   "metadata": {
    "id": "Y1jC584Mbd4Q"
   },
   "source": [
    "Data Collection and Processing"
   ]
  },
  {
   "cell_type": "code",
   "execution_count": 2,
   "metadata": {
    "id": "BQtjCTzHbZQO"
   },
   "outputs": [],
   "source": [
    "# loading the csv data to a Pandas DataFrame\n",
    "gold_data = pd.read_csv('gld_price_data.csv')"
   ]
  },
  {
   "cell_type": "code",
   "execution_count": 3,
   "metadata": {
    "colab": {
     "base_uri": "https://localhost:8080/",
     "height": 206
    },
    "id": "S5xeeB9LbyA9",
    "outputId": "f4e67d38-55a9-4349-fe44-3199804784bc"
   },
   "outputs": [
    {
     "data": {
      "text/html": [
       "<div>\n",
       "<style scoped>\n",
       "    .dataframe tbody tr th:only-of-type {\n",
       "        vertical-align: middle;\n",
       "    }\n",
       "\n",
       "    .dataframe tbody tr th {\n",
       "        vertical-align: top;\n",
       "    }\n",
       "\n",
       "    .dataframe thead th {\n",
       "        text-align: right;\n",
       "    }\n",
       "</style>\n",
       "<table border=\"1\" class=\"dataframe\">\n",
       "  <thead>\n",
       "    <tr style=\"text-align: right;\">\n",
       "      <th></th>\n",
       "      <th>Date</th>\n",
       "      <th>SPX</th>\n",
       "      <th>GLD</th>\n",
       "      <th>USO</th>\n",
       "      <th>SLV</th>\n",
       "      <th>EUR/USD</th>\n",
       "    </tr>\n",
       "  </thead>\n",
       "  <tbody>\n",
       "    <tr>\n",
       "      <th>0</th>\n",
       "      <td>1/2/2008</td>\n",
       "      <td>1447.160034</td>\n",
       "      <td>84.860001</td>\n",
       "      <td>78.470001</td>\n",
       "      <td>15.180</td>\n",
       "      <td>1.471692</td>\n",
       "    </tr>\n",
       "    <tr>\n",
       "      <th>1</th>\n",
       "      <td>1/3/2008</td>\n",
       "      <td>1447.160034</td>\n",
       "      <td>85.570000</td>\n",
       "      <td>78.370003</td>\n",
       "      <td>15.285</td>\n",
       "      <td>1.474491</td>\n",
       "    </tr>\n",
       "    <tr>\n",
       "      <th>2</th>\n",
       "      <td>1/4/2008</td>\n",
       "      <td>1411.630005</td>\n",
       "      <td>85.129997</td>\n",
       "      <td>77.309998</td>\n",
       "      <td>15.167</td>\n",
       "      <td>1.475492</td>\n",
       "    </tr>\n",
       "    <tr>\n",
       "      <th>3</th>\n",
       "      <td>1/7/2008</td>\n",
       "      <td>1416.180054</td>\n",
       "      <td>84.769997</td>\n",
       "      <td>75.500000</td>\n",
       "      <td>15.053</td>\n",
       "      <td>1.468299</td>\n",
       "    </tr>\n",
       "    <tr>\n",
       "      <th>4</th>\n",
       "      <td>1/8/2008</td>\n",
       "      <td>1390.189941</td>\n",
       "      <td>86.779999</td>\n",
       "      <td>76.059998</td>\n",
       "      <td>15.590</td>\n",
       "      <td>1.557099</td>\n",
       "    </tr>\n",
       "  </tbody>\n",
       "</table>\n",
       "</div>"
      ],
      "text/plain": [
       "       Date          SPX        GLD        USO     SLV   EUR/USD\n",
       "0  1/2/2008  1447.160034  84.860001  78.470001  15.180  1.471692\n",
       "1  1/3/2008  1447.160034  85.570000  78.370003  15.285  1.474491\n",
       "2  1/4/2008  1411.630005  85.129997  77.309998  15.167  1.475492\n",
       "3  1/7/2008  1416.180054  84.769997  75.500000  15.053  1.468299\n",
       "4  1/8/2008  1390.189941  86.779999  76.059998  15.590  1.557099"
      ]
     },
     "execution_count": 3,
     "metadata": {},
     "output_type": "execute_result"
    }
   ],
   "source": [
    "# print first 5 rows in the dataframe\n",
    "gold_data.head()"
   ]
  },
  {
   "cell_type": "code",
   "execution_count": 4,
   "metadata": {
    "colab": {
     "base_uri": "https://localhost:8080/",
     "height": 206
    },
    "id": "NrywfHOBb6HD",
    "outputId": "772d91f7-112b-4535-b568-875d11f97960"
   },
   "outputs": [
    {
     "data": {
      "text/html": [
       "<div>\n",
       "<style scoped>\n",
       "    .dataframe tbody tr th:only-of-type {\n",
       "        vertical-align: middle;\n",
       "    }\n",
       "\n",
       "    .dataframe tbody tr th {\n",
       "        vertical-align: top;\n",
       "    }\n",
       "\n",
       "    .dataframe thead th {\n",
       "        text-align: right;\n",
       "    }\n",
       "</style>\n",
       "<table border=\"1\" class=\"dataframe\">\n",
       "  <thead>\n",
       "    <tr style=\"text-align: right;\">\n",
       "      <th></th>\n",
       "      <th>Date</th>\n",
       "      <th>SPX</th>\n",
       "      <th>GLD</th>\n",
       "      <th>USO</th>\n",
       "      <th>SLV</th>\n",
       "      <th>EUR/USD</th>\n",
       "    </tr>\n",
       "  </thead>\n",
       "  <tbody>\n",
       "    <tr>\n",
       "      <th>2285</th>\n",
       "      <td>5/8/2018</td>\n",
       "      <td>2671.919922</td>\n",
       "      <td>124.589996</td>\n",
       "      <td>14.0600</td>\n",
       "      <td>15.5100</td>\n",
       "      <td>1.186789</td>\n",
       "    </tr>\n",
       "    <tr>\n",
       "      <th>2286</th>\n",
       "      <td>5/9/2018</td>\n",
       "      <td>2697.790039</td>\n",
       "      <td>124.330002</td>\n",
       "      <td>14.3700</td>\n",
       "      <td>15.5300</td>\n",
       "      <td>1.184722</td>\n",
       "    </tr>\n",
       "    <tr>\n",
       "      <th>2287</th>\n",
       "      <td>5/10/2018</td>\n",
       "      <td>2723.070068</td>\n",
       "      <td>125.180000</td>\n",
       "      <td>14.4100</td>\n",
       "      <td>15.7400</td>\n",
       "      <td>1.191753</td>\n",
       "    </tr>\n",
       "    <tr>\n",
       "      <th>2288</th>\n",
       "      <td>5/14/2018</td>\n",
       "      <td>2730.129883</td>\n",
       "      <td>124.489998</td>\n",
       "      <td>14.3800</td>\n",
       "      <td>15.5600</td>\n",
       "      <td>1.193118</td>\n",
       "    </tr>\n",
       "    <tr>\n",
       "      <th>2289</th>\n",
       "      <td>5/16/2018</td>\n",
       "      <td>2725.780029</td>\n",
       "      <td>122.543800</td>\n",
       "      <td>14.4058</td>\n",
       "      <td>15.4542</td>\n",
       "      <td>1.182033</td>\n",
       "    </tr>\n",
       "  </tbody>\n",
       "</table>\n",
       "</div>"
      ],
      "text/plain": [
       "           Date          SPX         GLD      USO      SLV   EUR/USD\n",
       "2285   5/8/2018  2671.919922  124.589996  14.0600  15.5100  1.186789\n",
       "2286   5/9/2018  2697.790039  124.330002  14.3700  15.5300  1.184722\n",
       "2287  5/10/2018  2723.070068  125.180000  14.4100  15.7400  1.191753\n",
       "2288  5/14/2018  2730.129883  124.489998  14.3800  15.5600  1.193118\n",
       "2289  5/16/2018  2725.780029  122.543800  14.4058  15.4542  1.182033"
      ]
     },
     "execution_count": 4,
     "metadata": {},
     "output_type": "execute_result"
    }
   ],
   "source": [
    "# print last 5 rows of the dataframe\n",
    "gold_data.tail()"
   ]
  },
  {
   "cell_type": "code",
   "execution_count": 5,
   "metadata": {
    "colab": {
     "base_uri": "https://localhost:8080/"
    },
    "id": "vgnDjvpocdUp",
    "outputId": "948c9f32-baf2-4da4-c89d-b03ad9954fb4"
   },
   "outputs": [
    {
     "data": {
      "text/plain": [
       "(2290, 6)"
      ]
     },
     "execution_count": 5,
     "metadata": {},
     "output_type": "execute_result"
    }
   ],
   "source": [
    "# number of rows and columns\n",
    "gold_data.shape\n",
    "\n",
    "# shape is used to find the dimension of the data i.e., how many rows and columns we have in our data set\n",
    "# as the output tells we have 2290 rows and 6 columns of data"
   ]
  },
  {
   "cell_type": "code",
   "execution_count": 6,
   "metadata": {
    "colab": {
     "base_uri": "https://localhost:8080/"
    },
    "id": "9SEXC4AWcnDu",
    "outputId": "181d4b21-9ee3-4906-c5e2-0c7b5633a044"
   },
   "outputs": [
    {
     "name": "stdout",
     "output_type": "stream",
     "text": [
      "<class 'pandas.core.frame.DataFrame'>\n",
      "RangeIndex: 2290 entries, 0 to 2289\n",
      "Data columns (total 6 columns):\n",
      " #   Column   Non-Null Count  Dtype  \n",
      "---  ------   --------------  -----  \n",
      " 0   Date     2290 non-null   object \n",
      " 1   SPX      2290 non-null   float64\n",
      " 2   GLD      2290 non-null   float64\n",
      " 3   USO      2290 non-null   float64\n",
      " 4   SLV      2290 non-null   float64\n",
      " 5   EUR/USD  2290 non-null   float64\n",
      "dtypes: float64(5), object(1)\n",
      "memory usage: 107.5+ KB\n"
     ]
    }
   ],
   "source": [
    "# getting some basic informations about the data\n",
    "gold_data.info()\n",
    "\n",
    "# here .inof() function tells us about the general info about our data\n",
    "# column names, if we have any null values and what is the type of that column "
   ]
  },
  {
   "cell_type": "code",
   "execution_count": 7,
   "metadata": {
    "colab": {
     "base_uri": "https://localhost:8080/"
    },
    "id": "tjmFVXi2cv4Q",
    "outputId": "56b7254f-e259-4da9-c98a-0ab8108ec781"
   },
   "outputs": [
    {
     "name": "stdout",
     "output_type": "stream",
     "text": [
      "       Date    SPX    GLD    USO    SLV  EUR/USD\n",
      "0     False  False  False  False  False    False\n",
      "1     False  False  False  False  False    False\n",
      "2     False  False  False  False  False    False\n",
      "3     False  False  False  False  False    False\n",
      "4     False  False  False  False  False    False\n",
      "...     ...    ...    ...    ...    ...      ...\n",
      "2285  False  False  False  False  False    False\n",
      "2286  False  False  False  False  False    False\n",
      "2287  False  False  False  False  False    False\n",
      "2288  False  False  False  False  False    False\n",
      "2289  False  False  False  False  False    False\n",
      "\n",
      "[2290 rows x 6 columns]\n",
      "Getting count of null values: \n",
      " Date       0\n",
      "SPX        0\n",
      "GLD        0\n",
      "USO        0\n",
      "SLV        0\n",
      "EUR/USD    0\n",
      "dtype: int64\n"
     ]
    }
   ],
   "source": [
    "# checking the number of missing values\n",
    "print(gold_data.isnull())\n",
    "\n",
    "# Here we are checking if our data contains null values or not\n",
    "# and we do that using .isnull() function now this function returns True or False as output\n",
    "\n",
    "print('Getting count of null values: \\n',gold_data.isnull().sum())\n",
    "# in order to get the sum of missing values we in turn use .sum() function to get the total number of missing values\n",
    "# in this case we don't have any missing values"
   ]
  },
  {
   "cell_type": "code",
   "execution_count": 8,
   "metadata": {
    "colab": {
     "base_uri": "https://localhost:8080/",
     "height": 300
    },
    "id": "9IcOnRfhc7zv",
    "outputId": "b496683f-423f-4958-e352-4726ad607c09"
   },
   "outputs": [
    {
     "data": {
      "text/html": [
       "<div>\n",
       "<style scoped>\n",
       "    .dataframe tbody tr th:only-of-type {\n",
       "        vertical-align: middle;\n",
       "    }\n",
       "\n",
       "    .dataframe tbody tr th {\n",
       "        vertical-align: top;\n",
       "    }\n",
       "\n",
       "    .dataframe thead th {\n",
       "        text-align: right;\n",
       "    }\n",
       "</style>\n",
       "<table border=\"1\" class=\"dataframe\">\n",
       "  <thead>\n",
       "    <tr style=\"text-align: right;\">\n",
       "      <th></th>\n",
       "      <th>SPX</th>\n",
       "      <th>GLD</th>\n",
       "      <th>USO</th>\n",
       "      <th>SLV</th>\n",
       "      <th>EUR/USD</th>\n",
       "    </tr>\n",
       "  </thead>\n",
       "  <tbody>\n",
       "    <tr>\n",
       "      <th>count</th>\n",
       "      <td>2290.000000</td>\n",
       "      <td>2290.000000</td>\n",
       "      <td>2290.000000</td>\n",
       "      <td>2290.000000</td>\n",
       "      <td>2290.000000</td>\n",
       "    </tr>\n",
       "    <tr>\n",
       "      <th>mean</th>\n",
       "      <td>1654.315776</td>\n",
       "      <td>122.732875</td>\n",
       "      <td>31.842221</td>\n",
       "      <td>20.084997</td>\n",
       "      <td>1.283653</td>\n",
       "    </tr>\n",
       "    <tr>\n",
       "      <th>std</th>\n",
       "      <td>519.111540</td>\n",
       "      <td>23.283346</td>\n",
       "      <td>19.523517</td>\n",
       "      <td>7.092566</td>\n",
       "      <td>0.131547</td>\n",
       "    </tr>\n",
       "    <tr>\n",
       "      <th>min</th>\n",
       "      <td>676.530029</td>\n",
       "      <td>70.000000</td>\n",
       "      <td>7.960000</td>\n",
       "      <td>8.850000</td>\n",
       "      <td>1.039047</td>\n",
       "    </tr>\n",
       "    <tr>\n",
       "      <th>25%</th>\n",
       "      <td>1239.874969</td>\n",
       "      <td>109.725000</td>\n",
       "      <td>14.380000</td>\n",
       "      <td>15.570000</td>\n",
       "      <td>1.171313</td>\n",
       "    </tr>\n",
       "    <tr>\n",
       "      <th>50%</th>\n",
       "      <td>1551.434998</td>\n",
       "      <td>120.580002</td>\n",
       "      <td>33.869999</td>\n",
       "      <td>17.268500</td>\n",
       "      <td>1.303297</td>\n",
       "    </tr>\n",
       "    <tr>\n",
       "      <th>75%</th>\n",
       "      <td>2073.010070</td>\n",
       "      <td>132.840004</td>\n",
       "      <td>37.827501</td>\n",
       "      <td>22.882500</td>\n",
       "      <td>1.369971</td>\n",
       "    </tr>\n",
       "    <tr>\n",
       "      <th>max</th>\n",
       "      <td>2872.870117</td>\n",
       "      <td>184.589996</td>\n",
       "      <td>117.480003</td>\n",
       "      <td>47.259998</td>\n",
       "      <td>1.598798</td>\n",
       "    </tr>\n",
       "  </tbody>\n",
       "</table>\n",
       "</div>"
      ],
      "text/plain": [
       "               SPX          GLD          USO          SLV      EUR/USD\n",
       "count  2290.000000  2290.000000  2290.000000  2290.000000  2290.000000\n",
       "mean   1654.315776   122.732875    31.842221    20.084997     1.283653\n",
       "std     519.111540    23.283346    19.523517     7.092566     0.131547\n",
       "min     676.530029    70.000000     7.960000     8.850000     1.039047\n",
       "25%    1239.874969   109.725000    14.380000    15.570000     1.171313\n",
       "50%    1551.434998   120.580002    33.869999    17.268500     1.303297\n",
       "75%    2073.010070   132.840004    37.827501    22.882500     1.369971\n",
       "max    2872.870117   184.589996   117.480003    47.259998     1.598798"
      ]
     },
     "execution_count": 8,
     "metadata": {},
     "output_type": "execute_result"
    }
   ],
   "source": [
    "# getting the statistical measures of the data\n",
    "gold_data.describe()\n",
    "\n",
    "# describe function gives us the descriptive summary of the data\n",
    "# such as, what is the total count of data \n",
    "# as we know we have 2290 rows in total hence the first row tells us that\n",
    "# next what is the respective mean, standard devation, min value of that particular column, max value etc etc\n",
    "# You will get a idea of this if ou do it manually, in case you have any doubts \n",
    "# Mai toh hu he  :P"
   ]
  },
  {
   "cell_type": "markdown",
   "metadata": {
    "id": "f9SUQ8hodW4b"
   },
   "source": [
    "Correlation: Value ranges between [-1,1]\n",
    "1. Positive Correlation\n",
    "2. Negative Correlation\n",
    "\n",
    "# Next important step is correlation\n",
    "Why correlation is important?\n",
    "One value can have a positive or negative impact on the other value\n",
    "In such cases our analysis might be misleading\n",
    "Hence we should always check correlation\n",
    "\n",
    "A positive correlation means that this linear relationship is positive, and the two variables increase or decrease in the same direction. A negative correlation is just the opposite, wherein the relationship line has a negative slope and the variables change in opposite directions (i.e, one variable decreases while the other increases). No correlation simply means that the variables behave very differently and thus, have no linear relationship.\n",
    "\n",
    "Example: temperature and ice cream sales: the hotter the day, the higher the ice cream sales. This is a positive correlation.\n",
    "\n",
    "Rain is negatively correlated to bicycle traffic. \n",
    "\n"
   ]
  },
  {
   "cell_type": "code",
   "execution_count": 9,
   "metadata": {
    "id": "C3xgji81dJUW"
   },
   "outputs": [],
   "source": [
    "correlation = gold_data.corr()"
   ]
  },
  {
   "cell_type": "code",
   "execution_count": 10,
   "metadata": {},
   "outputs": [],
   "source": [
    "import matplotlib.pyplot as plt\n",
    "plt.show()"
   ]
  },
  {
   "cell_type": "code",
   "execution_count": 11,
   "metadata": {},
   "outputs": [],
   "source": [
    "import matplotlib as mpl\n",
    "import matplotlib.pyplot as plt\n",
    "\n",
    "import seaborn as sns\n"
   ]
  },
  {
   "cell_type": "code",
   "execution_count": 12,
   "metadata": {
    "colab": {
     "base_uri": "https://localhost:8080/",
     "height": 487
    },
    "id": "oOqb9j0Ad-Zx",
    "outputId": "960828fd-1545-4a79-e84f-918f2091ce5a"
   },
   "outputs": [
    {
     "data": {
      "text/plain": [
       "<AxesSubplot:>"
      ]
     },
     "execution_count": 12,
     "metadata": {},
     "output_type": "execute_result"
    },
    {
     "data": {
      "image/png": "[encoded data removed]",
      "text/plain": [
       "<Figure size 800x800 with 2 Axes>"
      ]
     },
     "metadata": {},
     "output_type": "display_data"
    }
   ],
   "source": [
    "# constructing a heatmap to understand the correlatiom\n",
    "plt.figure(figsize = (8,8))\n",
    "sns.heatmap(correlation, cbar=True, square=True, fmt='.1f',annot=True, annot_kws={'size':8}, cmap='Blues')"
   ]
  },
  {
   "cell_type": "code",
   "execution_count": 13,
   "metadata": {
    "colab": {
     "base_uri": "https://localhost:8080/"
    },
    "id": "qtQ_icjRemI4",
    "outputId": "167e15fd-c0bc-4669-b0a5-2558e079c99b"
   },
   "outputs": [
    {
     "name": "stdout",
     "output_type": "stream",
     "text": [
      "SPX        0.049345\n",
      "GLD        1.000000\n",
      "USO       -0.186360\n",
      "SLV        0.866632\n",
      "EUR/USD   -0.024375\n",
      "Name: GLD, dtype: float64\n"
     ]
    }
   ],
   "source": [
    "# correlation values of GLD\n",
    "print(correlation['GLD'])\n",
    "\n",
    "# so from this we can infer that Gold and silver are positively correlated"
   ]
  },
  {
   "cell_type": "code",
   "execution_count": 14,
   "metadata": {
    "colab": {
     "base_uri": "https://localhost:8080/",
     "height": 355
    },
    "id": "TMr-xVEwfIKg",
    "outputId": "3aa904d2-6f3b-40ae-93b3-e0208cab94e3"
   },
   "outputs": [
    {
     "name": "stderr",
     "output_type": "stream",
     "text": [
      "C:\\Users\\Lenovo\\anaconda3\\lib\\site-packages\\seaborn\\distributions.py:2619: FutureWarning: `distplot` is a deprecated function and will be removed in a future version. Please adapt your code to use either `displot` (a figure-level function with similar flexibility) or `histplot` (an axes-level function for histograms).\n",
      "  warnings.warn(msg, FutureWarning)\n"
     ]
    },
    {
     "data": {
      "text/plain": [
       "<AxesSubplot:xlabel='GLD', ylabel='Density'>"
      ]
     },
     "execution_count": 14,
     "metadata": {},
     "output_type": "execute_result"
    },
    {
     "data": {
      "image/png": "[encoded data removed]",
      "text/plain": [
       "<Figure size 640x480 with 1 Axes>"
      ]
     },
     "metadata": {},
     "output_type": "display_data"
    }
   ],
   "source": [
    "# checking the distribution of the GLD Price\n",
    "sns.distplot(gold_data['GLD'],color='green')"
   ]
  },
  {
   "cell_type": "markdown",
   "metadata": {
    "id": "4bdwLbPEfqWI"
   },
   "source": [
    "Splitting the Features and Target"
   ]
  },
  {
   "cell_type": "code",
   "execution_count": 15,
   "metadata": {
    "id": "SJNxCR0vfWxe"
   },
   "outputs": [],
   "source": [
    "X = gold_data.drop(['Date','GLD'],axis=1)\n",
    "Y = gold_data['GLD']"
   ]
  },
  {
   "cell_type": "code",
   "execution_count": 17,
   "metadata": {
    "colab": {
     "base_uri": "https://localhost:8080/"
    },
    "id": "qW9UvLSNf8zH",
    "outputId": "b5234682-4f65-46d7-820a-7051142a8619"
   },
   "outputs": [
    {
     "name": "stdout",
     "output_type": "stream",
     "text": [
      "              SPX        USO      SLV   EUR/USD\n",
      "0     1447.160034  78.470001  15.1800  1.471692\n",
      "1     1447.160034  78.370003  15.2850  1.474491\n",
      "2     1411.630005  77.309998  15.1670  1.475492\n",
      "3     1416.180054  75.500000  15.0530  1.468299\n",
      "4     1390.189941  76.059998  15.5900  1.557099\n",
      "...           ...        ...      ...       ...\n",
      "2285  2671.919922  14.060000  15.5100  1.186789\n",
      "2286  2697.790039  14.370000  15.5300  1.184722\n",
      "2287  2723.070068  14.410000  15.7400  1.191753\n",
      "2288  2730.129883  14.380000  15.5600  1.193118\n",
      "2289  2725.780029  14.405800  15.4542  1.182033\n",
      "\n",
      "[2290 rows x 4 columns]\n"
     ]
    }
   ],
   "source": [
    "print(X)"
   ]
  },
  {
   "cell_type": "code",
   "execution_count": 16,
   "metadata": {
    "colab": {
     "base_uri": "https://localhost:8080/"
    },
    "id": "lKUe3C-qf9y8",
    "outputId": "57dfb9a4-fd91-4d0c-d156-6bf1a51020eb"
   },
   "outputs": [
    {
     "name": "stdout",
     "output_type": "stream",
     "text": [
      "0        84.860001\n",
      "1        85.570000\n",
      "2        85.129997\n",
      "3        84.769997\n",
      "4        86.779999\n",
      "           ...    \n",
      "2285    124.589996\n",
      "2286    124.330002\n",
      "2287    125.180000\n",
      "2288    124.489998\n",
      "2289    122.543800\n",
      "Name: GLD, Length: 2290, dtype: float64\n"
     ]
    }
   ],
   "source": [
    "print(Y)"
   ]
  },
  {
   "cell_type": "markdown",
   "metadata": {
    "id": "nv8UohBVgE1Z"
   },
   "source": [
    "Splitting into Training data and Test Data"
   ]
  },
  {
   "cell_type": "code",
   "execution_count": 17,
   "metadata": {
    "id": "KkrUByFugBUn"
   },
   "outputs": [],
   "source": [
    "X_train, X_test, Y_train, Y_test = train_test_split(X, Y, test_size = 0.3, random_state=2)"
   ]
  },
  {
   "cell_type": "markdown",
   "metadata": {
    "id": "1vrCHktWgqfi"
   },
   "source": [
    "Model Training:\n",
    "Random Forest Regressor"
   ]
  },
  {
   "cell_type": "code",
   "execution_count": 18,
   "metadata": {
    "id": "N17qRKKGgoaZ"
   },
   "outputs": [],
   "source": [
    "# Here we are defining a RandomForestRegressor and n_estimators is the total number of decision tress we are using\n",
    "# here since our data is less we are using 100 decision trees to train our model on\n",
    "regressor = RandomForestRegressor(n_estimators=100)"
   ]
  },
  {
   "cell_type": "code",
   "execution_count": 19,
   "metadata": {
    "colab": {
     "base_uri": "https://localhost:8080/"
    },
    "id": "DP2he4-PhMso",
    "outputId": "606434d1-5d44-4027-b8b3-954e37a7c356"
   },
   "outputs": [
    {
     "data": {
      "text/plain": [
       "RandomForestRegressor()"
      ]
     },
     "execution_count": 19,
     "metadata": {},
     "output_type": "execute_result"
    }
   ],
   "source": [
    "# training the model\n",
    "regressor.fit(X_train,Y_train)"
   ]
  },
  {
   "cell_type": "markdown",
   "metadata": {
    "id": "SHNFVsr4hbG2"
   },
   "source": [
    "Model Evaluation"
   ]
  },
  {
   "cell_type": "code",
   "execution_count": 20,
   "metadata": {
    "id": "uOLpKKD_hXSl"
   },
   "outputs": [],
   "source": [
    "# prediction on Test Data\n",
    "test_data_prediction = regressor.predict(X_test)"
   ]
  },
  {
   "cell_type": "code",
   "execution_count": 21,
   "metadata": {
    "id": "WSIqrLNdhnOr"
   },
   "outputs": [
    {
     "name": "stdout",
     "output_type": "stream",
     "text": [
      "[168.91899965  81.77749976 115.96240027 127.28650104 120.496402\n",
      " 154.62939782 150.89450063 126.16880014 117.77679882 126.02490075\n",
      " 116.26770081 172.23110095 142.22249949 167.75169859 115.24829946\n",
      " 117.63620025 138.3430037  170.47700185 160.0711033  162.14660002\n",
      " 155.12350031 125.88790023 175.13869962 157.12740253 125.04280115\n",
      "  94.04919904  76.9051     120.18419982 119.34540092 167.4646003\n",
      "  88.45149878 125.18960137  90.98800071 117.75759978 121.17879909\n",
      " 136.82840077 115.47040093 117.03530054 147.97749868 106.98780106\n",
      " 103.79660182  87.36059778 126.55570056 117.67579903 153.54319918\n",
      " 119.81480039 108.29680127 107.93769811  93.21479991 127.2004977\n",
      "  74.73180016 113.60209913 121.06989989 111.08009916 118.8214985\n",
      " 120.21659986 159.1435006  167.16810179 146.8703972   86.31619965\n",
      "  94.24389975  86.91019863  90.61709998 118.98150114 126.50430065\n",
      " 127.85879986 171.53110024 122.20979958 117.28289902  99.36029956\n",
      " 167.93440173 142.87849786 132.12620224 121.04540209 120.67859954\n",
      " 119.73930082 114.2728018  118.47510053 106.76530097 127.87270026\n",
      " 114.08619952 107.31889954 116.70310092 119.57149885  89.54330043\n",
      "  88.25989859 144.95110067 127.29529995 113.03120047 109.85549844\n",
      " 108.02579923  76.78849903 170.21590235 114.58259949 121.70279931\n",
      " 127.3993019  154.93399849  91.01629904 134.94430068 158.79140452\n",
      " 124.06020094 125.4810007  130.92430178 114.73190152 119.80560011\n",
      "  92.16399974 110.48659883 168.52329977 154.35750018 114.81130025\n",
      " 106.77740129  79.40259946 113.42090016 125.97590049 107.12689987\n",
      " 119.65550092 155.97610315 158.70179923 119.66070012 133.9348023\n",
      " 101.25539993 117.49799807 119.38640021 112.97440119 102.84979893\n",
      " 159.39369731  99.42950001 148.09689932 125.50420101 168.95639885\n",
      " 125.62699878 127.29109868 127.34660183 113.78699963 114.10080118\n",
      " 123.97859927 102.65209958  89.43149944 124.12639971 101.29469914\n",
      " 106.98619885 113.6657008  117.35920091  99.60999931 121.91709994\n",
      " 162.22289905  87.46429874 107.01889982 117.16340132 127.59350095\n",
      " 123.63600072  80.8866993  120.58180064 155.07639773  88.19399913\n",
      " 110.2294996  118.91219907 172.68259851 102.94919897 105.32820035\n",
      " 122.47630001 155.02759753  87.35129848  93.28809992 112.59590039\n",
      " 176.73239997 114.19789995 119.33869995  95.87670118 125.30659989\n",
      " 165.40210098 115.07940103 116.88350152  88.28189845 148.57939939\n",
      " 120.54499948  89.50109968 112.94750063 116.41110006 118.96490124\n",
      "  88.07229935  94.14489963 116.68179969 119.17540046 120.43260096\n",
      " 126.32489886 121.81019965 152.76359999 165.1286013  118.51419944\n",
      " 120.02680063 148.44659903 117.67069825 173.03769873 105.3646997\n",
      " 105.25459997 148.86620026 113.23140082 124.63040182 148.76750206\n",
      " 119.73840115 115.47750023 112.95120076 113.39740202 141.69690103\n",
      " 117.71339783 102.9742004  115.96270116 103.19410093  99.24709981\n",
      " 117.37250072  90.76240005  91.66750011 153.10559948 102.7687\n",
      " 155.02670073 114.37610178 139.65170133  89.86679798 115.54959894\n",
      " 112.68190067 122.75530108 121.42239975 165.62110178  92.85129904\n",
      " 135.74720107 121.34399948 120.64430073 104.87919985 141.67420291\n",
      " 122.57739937 116.66490045 113.57970092 126.74959751 122.3894999\n",
      " 125.91989954 121.25820039  86.91159872 132.28000174 145.53510194\n",
      "  93.05219979 155.01569975 158.00640431 125.8345999  163.77139944\n",
      " 109.05399949 109.59950077 103.77249813  93.95470175 127.76110217\n",
      " 107.12540041 156.57529962 122.02249981 131.78989955 131.01290055\n",
      " 160.82159952  89.87069773 174.39200292 128.26890014 126.34319904\n",
      "  86.59539933 124.78849975 150.34149756  89.65349988 107.21149976\n",
      " 108.86069984  84.46779925 135.77430075 153.60120086 139.48050371\n",
      "  74.86919986 149.83609906 125.95920134 126.7796003  127.38509861\n",
      " 108.63939917 155.85470125 114.46200142 116.91210101 124.7292995\n",
      " 153.78060131 121.25389999 156.28079943  92.67249959 125.77040106\n",
      " 124.77759976  87.53339941  91.72979931 126.45699939 127.70040302\n",
      " 113.40640165 117.27059741 121.02259998 126.92919815 119.17080113\n",
      " 136.48960052  93.93949873 120.20830064 113.12550103  94.25439943\n",
      " 108.58379986  87.24809931 109.56139921  89.67649958  91.42390067\n",
      " 131.87420188 162.31720037  89.78289918 119.49290083 133.48910163\n",
      " 123.61619995 127.42389989 102.60469938  89.06269889 132.02330142\n",
      " 120.0895007  108.9161999  165.19870196 115.33800033  86.56599869\n",
      " 118.89190054  90.88090001 161.66250057 116.43080022 121.26069977\n",
      " 160.47429805 118.86359994 112.89319927 108.35929869 126.7087004\n",
      "  76.04109992 102.99549979 127.60420183 121.50389896  92.7688994\n",
      " 131.96690069 117.89800114 115.54509977 155.03380218 159.31850085\n",
      " 110.18889922 155.44349784 119.33400098 160.15820118 118.70540125\n",
      " 158.69270027 114.99809956 116.40090012 149.90839909 114.74780076\n",
      " 125.67299845 164.35979856 117.5754997  125.08849937 153.41470314\n",
      " 153.71060237 132.01400086 114.78240042 121.1342017  124.69350071\n",
      "  90.1645995  122.85840034 154.87220181 111.94090046 106.9421996\n",
      " 162.22770161 118.50749955 165.68859996 134.04010144 115.23950033\n",
      " 153.03409895 169.42410276 115.14450029 113.91380122 158.33599885\n",
      "  85.36019837 127.23620017 127.88440087 129.0632991  124.32890066\n",
      " 123.40499971  90.50640069 152.98450113  96.88980016 137.14199982\n",
      "  89.25149926 107.2838996  115.00110023 112.73330127 124.08819902\n",
      "  91.31249866 124.96300088 162.23399956 119.86089953 164.90420102\n",
      " 126.35459886 112.3962001  127.50349884  94.39670158  90.92819969\n",
      " 102.98209905 120.80000023  83.3196993  126.41810032 160.9903054\n",
      " 117.57950073 117.65109937 120.01629974 122.59839976 120.09960071\n",
      " 121.25869971 118.28399999 107.14229955 147.35739847 126.37929813\n",
      " 115.6830006   74.05380023 127.64310023 155.38690071 121.38859997\n",
      " 125.52390001  88.89639954 102.09929871 124.52070007 120.4243002\n",
      "  73.33970095 151.28590185 120.94819997 105.15319989  85.9763977\n",
      " 115.27089924 172.20489692 119.78230046 160.51919945 113.28439938\n",
      " 120.83050042 118.96600095  95.98990001 119.09060039 125.69100054\n",
      " 118.47149955  95.71560098 154.76080175 121.71729996 147.95489913\n",
      " 159.18120353 113.65270038 121.96940029 153.19909962 126.91000053\n",
      " 165.78390049 135.59309969 120.04450001 167.94419841 108.0631001\n",
      " 121.2261003  139.72890096 106.81749922 109.97499977 113.4389007\n",
      "  90.48389898 125.76040011 119.73330084  93.90320159 151.8462994\n",
      " 116.88860049  81.07979974 121.58670022 102.43870112 127.87139947\n",
      " 123.71159882 118.99280056 120.49090047 120.82920021 131.88390103\n",
      " 116.07149848 117.62549894 115.71269887 104.31870005 152.13800155\n",
      " 110.12289699 125.89909945  81.90819955 179.11979828  93.20480068\n",
      " 167.39020023 105.49670079 171.71909841 155.71580022 132.56200211\n",
      " 120.55329888 123.75289888 146.33390033 124.73329915 112.92310092\n",
      " 125.53600139 122.10529976 139.87510099  76.51090024  92.58929981\n",
      " 114.03209892 121.03729893 127.0678987  122.16340055 126.12440157\n",
      " 122.10950012 119.34500064 104.15259915 118.11149949  85.04059964\n",
      "  92.73800105 121.52880004 118.27559983  92.40010115 125.39540064\n",
      "  97.15469874 104.34219917  89.54179946 150.84220064 108.92399957\n",
      " 120.30270126  91.38730131 118.90419997 128.6093985  111.8530996\n",
      " 155.78810091 151.20250131 108.79510136  96.4177999  118.09480029\n",
      " 125.06850118  80.76569904 116.45610107  92.91359934 141.47010269\n",
      " 108.11179942 106.34850102  88.31719926 117.38939971 110.6352983\n",
      " 121.96830041 135.78920046 114.73330048 119.66290085 156.66970006\n",
      " 106.89300151  96.39540138 135.70360049 128.87210209 123.0311004\n",
      " 120.0124014  115.98880019 102.27390153 118.69379939 120.6945012\n",
      " 121.66800078 156.11230118  87.23579767 163.19670157 121.56339949\n",
      " 119.22200041 156.12310278 159.48510086 142.43439794 114.95969953\n",
      " 109.23090051 126.62739887 149.4734021   94.36690168 115.29680039\n",
      " 122.06229982 121.69499913  87.32029818 130.61000064 130.91050249\n",
      " 122.78919969 113.10780129 109.08079933 154.22840257 111.80380029\n",
      " 113.01600036 119.1403995  114.08560135 117.77880022 124.35869989\n",
      " 125.99889997 135.09629796 118.38660085  91.5776987  118.90360039\n",
      " 118.95240175  87.16709804 119.42139947 116.91450128 117.56489902\n",
      " 117.19859953 159.71449992 116.67710045  85.96410108 108.10999897\n",
      " 123.83009983 154.4266009  117.63230046 120.84640016  85.95410055\n",
      " 127.48370027 144.01500151 127.05179962 162.0837993  117.95290009\n",
      " 117.39529871 118.18609993 164.52090218 125.77110007  99.21940001\n",
      "  89.59599952 107.07930074 123.91110002 118.74209958 119.53590034\n",
      "  90.19069934  92.6015991   89.14889885 108.92610004  95.62550094\n",
      " 146.91850052 179.2520986  155.29000094 155.06970091 121.81509949\n",
      " 140.05030179  86.84319852 124.12369968 119.14020124  96.50930148\n",
      " 124.87690102  91.60140093  92.91309956 102.66239898 117.10200053\n",
      "  87.72699926 153.80899915 111.56260084 109.41669841 125.78510044\n",
      " 169.32200188  72.83040007 144.07679982 124.67150129 112.6481007\n",
      " 129.07149848  91.15089902 126.34330023 159.08400001 121.20590101\n",
      " 121.01549827 125.13210024 146.59459947 119.89729821 124.29299926\n",
      " 127.6218012  122.62639962 144.40679896 152.26019949 120.12770036\n",
      " 148.11190049 117.14129906  85.97949869 120.61719955 124.50130042\n",
      " 125.81680019 165.68939718 122.39540009 150.2631002  125.45879958\n",
      "  82.16809831 155.90319806 127.46709986  88.38969818 105.18669979\n",
      " 122.17439947 135.81879721 168.59359492 121.92810013 114.86580037\n",
      "  85.24549976 111.81090029]\n"
     ]
    }
   ],
   "source": [
    "print(test_data_prediction)"
   ]
  },
  {
   "cell_type": "code",
   "execution_count": 27,
   "metadata": {
    "colab": {
     "base_uri": "https://localhost:8080/"
    },
    "id": "fu7A1hhMhqa9",
    "outputId": "65885258-105f-4520-c41c-c6bf7f1c476a"
   },
   "outputs": [
    {
     "name": "stdout",
     "output_type": "stream",
     "text": [
      "R squared :  0.9900565188790901\n"
     ]
    }
   ],
   "source": [
    "# R squared \n",
    "r2_score = metrics.r2_score(Y_test, test_data_prediction)\n",
    "print(\"R squared : \", r2_score)\n",
    "\n",
    "# r2_score (coefficient of determination) regression score function. Best possible score is 1.0"
   ]
  },
  {
   "cell_type": "markdown",
   "metadata": {
    "id": "f1fiqOMkiZNL"
   },
   "source": [
    "Compare the Actual Values and Predicted Values in a Plot"
   ]
  },
  {
   "cell_type": "code",
   "execution_count": 22,
   "metadata": {
    "id": "QoC4g_tBiE4A"
   },
   "outputs": [],
   "source": [
    "Y_test = list(Y_test)"
   ]
  },
  {
   "cell_type": "code",
   "execution_count": 23,
   "metadata": {
    "colab": {
     "base_uri": "https://localhost:8080/",
     "height": 295
    },
    "id": "sMSVMVtFijxo",
    "outputId": "cfc5c274-0aaa-495f-92db-0f9208cb8c39"
   },
   "outputs": [
    {
     "data": {
      "image/png": "[encoded data removed]",
      "text/plain": [
       "<Figure size 640x480 with 1 Axes>"
      ]
     },
     "metadata": {},
     "output_type": "display_data"
    }
   ],
   "source": [
    "plt.plot(Y_test, color='red', label = 'Actual Value')\n",
    "plt.plot(test_data_prediction, color='green', label='Predicted Value')\n",
    "plt.title('Actual Price vs Predicted Price')\n",
    "plt.xlabel('Number of values')\n",
    "plt.ylabel('GLD Price')\n",
    "plt.legend()\n",
    "plt.show()"
   ]
  },
  {
   "cell_type": "code",
   "execution_count": null,
   "metadata": {},
   "outputs": [],
   "source": []
  },
  {
   "cell_type": "code",
   "execution_count": null,
   "metadata": {},
   "outputs": [],
   "source": []
  }
 ],
 "metadata": {
  "colab": {
   "collapsed_sections": [],
   "provenance": []
  },
  "kernelspec": {
   "display_name": "Python 3 (ipykernel)",
   "language": "python",
   "name": "python3"
  },
  "language_info": {
   "codemirror_mode": {
    "name": "ipython",
    "version": 3
   },
   "file_extension": ".py",
   "mimetype": "text/x-python",
   "name": "python",
   "nbconvert_exporter": "python",
   "pygments_lexer": "ipython3",
   "version": "3.9.13"
  }
 },
 "nbformat": 4,
 "nbformat_minor": 1
}
