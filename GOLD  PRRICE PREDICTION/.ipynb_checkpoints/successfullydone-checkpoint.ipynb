{
 "cells": [
  {
   "cell_type": "markdown",
   "metadata": {
    "id": "vkDi0Br6dn9G"
   },
   "source": [
    "# Gold Price Prediction\n",
    "For this analysis, we will be using data from kaggle to predict the gold prices\n",
    "\n",
    "Problem Statement: Our objective is to predict the cost of gold prices using machine learning regression model"
   ]
  },
  {
   "cell_type": "markdown",
   "metadata": {
    "id": "i1h7LAlVa7Gu"
   },
   "source": [
    "Importing the Libraries"
   ]
  },
  {
   "cell_type": "code",
   "execution_count": 14,
   "metadata": {
    "id": "d2o7jdWHXE6K"
   },
   "outputs": [],
   "source": [
    "import numpy as np \n",
    "import pandas as pd\n",
    "\n",
    "import matplotlib.pyplot as plt\n",
    "\n",
    "from sklearn.model_selection import train_test_split \n",
    "\n",
    "from sklearn.ensemble import RandomForestRegressor \n",
    "\n",
    "from sklearn import metrics "
   ]
  },
  {
   "cell_type": "markdown",
   "metadata": {
    "id": "Y1jC584Mbd4Q"
   },
   "source": [
    "Data Collection and Processing"
   ]
  },
  {
   "cell_type": "code",
   "execution_count": 2,
   "metadata": {
    "id": "BQtjCTzHbZQO"
   },
   "outputs": [],
   "source": [
    "# loading the csv data to a Pandas DataFrame\n",
    "gold_data = pd.read_csv('gld_price_data.csv')"
   ]
  },
  {
   "cell_type": "code",
   "execution_count": 3,
   "metadata": {
    "colab": {
     "base_uri": "https://localhost:8080/",
     "height": 206
    },
    "id": "S5xeeB9LbyA9",
    "outputId": "f4e67d38-55a9-4349-fe44-3199804784bc"
   },
   "outputs": [
    {
     "data": {
      "text/html": [
       "<div>\n",
       "<style scoped>\n",
       "    .dataframe tbody tr th:only-of-type {\n",
       "        vertical-align: middle;\n",
       "    }\n",
       "\n",
       "    .dataframe tbody tr th {\n",
       "        vertical-align: top;\n",
       "    }\n",
       "\n",
       "    .dataframe thead th {\n",
       "        text-align: right;\n",
       "    }\n",
       "</style>\n",
       "<table border=\"1\" class=\"dataframe\">\n",
       "  <thead>\n",
       "    <tr style=\"text-align: right;\">\n",
       "      <th></th>\n",
       "      <th>Date</th>\n",
       "      <th>SPX</th>\n",
       "      <th>GLD</th>\n",
       "      <th>USO</th>\n",
       "      <th>SLV</th>\n",
       "      <th>EUR/USD</th>\n",
       "    </tr>\n",
       "  </thead>\n",
       "  <tbody>\n",
       "    <tr>\n",
       "      <th>0</th>\n",
       "      <td>1/2/2008</td>\n",
       "      <td>1447.160034</td>\n",
       "      <td>84.860001</td>\n",
       "      <td>78.470001</td>\n",
       "      <td>15.180</td>\n",
       "      <td>1.471692</td>\n",
       "    </tr>\n",
       "    <tr>\n",
       "      <th>1</th>\n",
       "      <td>1/3/2008</td>\n",
       "      <td>1447.160034</td>\n",
       "      <td>85.570000</td>\n",
       "      <td>78.370003</td>\n",
       "      <td>15.285</td>\n",
       "      <td>1.474491</td>\n",
       "    </tr>\n",
       "    <tr>\n",
       "      <th>2</th>\n",
       "      <td>1/4/2008</td>\n",
       "      <td>1411.630005</td>\n",
       "      <td>85.129997</td>\n",
       "      <td>77.309998</td>\n",
       "      <td>15.167</td>\n",
       "      <td>1.475492</td>\n",
       "    </tr>\n",
       "    <tr>\n",
       "      <th>3</th>\n",
       "      <td>1/7/2008</td>\n",
       "      <td>1416.180054</td>\n",
       "      <td>84.769997</td>\n",
       "      <td>75.500000</td>\n",
       "      <td>15.053</td>\n",
       "      <td>1.468299</td>\n",
       "    </tr>\n",
       "    <tr>\n",
       "      <th>4</th>\n",
       "      <td>1/8/2008</td>\n",
       "      <td>1390.189941</td>\n",
       "      <td>86.779999</td>\n",
       "      <td>76.059998</td>\n",
       "      <td>15.590</td>\n",
       "      <td>1.557099</td>\n",
       "    </tr>\n",
       "  </tbody>\n",
       "</table>\n",
       "</div>"
      ],
      "text/plain": [
       "       Date          SPX        GLD        USO     SLV   EUR/USD\n",
       "0  1/2/2008  1447.160034  84.860001  78.470001  15.180  1.471692\n",
       "1  1/3/2008  1447.160034  85.570000  78.370003  15.285  1.474491\n",
       "2  1/4/2008  1411.630005  85.129997  77.309998  15.167  1.475492\n",
       "3  1/7/2008  1416.180054  84.769997  75.500000  15.053  1.468299\n",
       "4  1/8/2008  1390.189941  86.779999  76.059998  15.590  1.557099"
      ]
     },
     "execution_count": 3,
     "metadata": {},
     "output_type": "execute_result"
    }
   ],
   "source": [
    "# print first 5 rows in the dataframe\n",
    "gold_data.head()"
   ]
  },
  {
   "cell_type": "code",
   "execution_count": null,
   "metadata": {},
   "outputs": [],
   "source": []
  },
  {
   "cell_type": "code",
   "execution_count": null,
   "metadata": {},
   "outputs": [],
   "source": []
  },
  {
   "cell_type": "code",
   "execution_count": 4,
   "metadata": {
    "colab": {
     "base_uri": "https://localhost:8080/",
     "height": 206
    },
    "id": "NrywfHOBb6HD",
    "outputId": "772d91f7-112b-4535-b568-875d11f97960"
   },
   "outputs": [
    {
     "data": {
      "text/html": [
       "<div>\n",
       "<style scoped>\n",
       "    .dataframe tbody tr th:only-of-type {\n",
       "        vertical-align: middle;\n",
       "    }\n",
       "\n",
       "    .dataframe tbody tr th {\n",
       "        vertical-align: top;\n",
       "    }\n",
       "\n",
       "    .dataframe thead th {\n",
       "        text-align: right;\n",
       "    }\n",
       "</style>\n",
       "<table border=\"1\" class=\"dataframe\">\n",
       "  <thead>\n",
       "    <tr style=\"text-align: right;\">\n",
       "      <th></th>\n",
       "      <th>Date</th>\n",
       "      <th>SPX</th>\n",
       "      <th>GLD</th>\n",
       "      <th>USO</th>\n",
       "      <th>SLV</th>\n",
       "      <th>EUR/USD</th>\n",
       "    </tr>\n",
       "  </thead>\n",
       "  <tbody>\n",
       "    <tr>\n",
       "      <th>2285</th>\n",
       "      <td>5/8/2018</td>\n",
       "      <td>2671.919922</td>\n",
       "      <td>124.589996</td>\n",
       "      <td>14.0600</td>\n",
       "      <td>15.5100</td>\n",
       "      <td>1.186789</td>\n",
       "    </tr>\n",
       "    <tr>\n",
       "      <th>2286</th>\n",
       "      <td>5/9/2018</td>\n",
       "      <td>2697.790039</td>\n",
       "      <td>124.330002</td>\n",
       "      <td>14.3700</td>\n",
       "      <td>15.5300</td>\n",
       "      <td>1.184722</td>\n",
       "    </tr>\n",
       "    <tr>\n",
       "      <th>2287</th>\n",
       "      <td>5/10/2018</td>\n",
       "      <td>2723.070068</td>\n",
       "      <td>125.180000</td>\n",
       "      <td>14.4100</td>\n",
       "      <td>15.7400</td>\n",
       "      <td>1.191753</td>\n",
       "    </tr>\n",
       "    <tr>\n",
       "      <th>2288</th>\n",
       "      <td>5/14/2018</td>\n",
       "      <td>2730.129883</td>\n",
       "      <td>124.489998</td>\n",
       "      <td>14.3800</td>\n",
       "      <td>15.5600</td>\n",
       "      <td>1.193118</td>\n",
       "    </tr>\n",
       "    <tr>\n",
       "      <th>2289</th>\n",
       "      <td>5/16/2018</td>\n",
       "      <td>2725.780029</td>\n",
       "      <td>122.543800</td>\n",
       "      <td>14.4058</td>\n",
       "      <td>15.4542</td>\n",
       "      <td>1.182033</td>\n",
       "    </tr>\n",
       "  </tbody>\n",
       "</table>\n",
       "</div>"
      ],
      "text/plain": [
       "           Date          SPX         GLD      USO      SLV   EUR/USD\n",
       "2285   5/8/2018  2671.919922  124.589996  14.0600  15.5100  1.186789\n",
       "2286   5/9/2018  2697.790039  124.330002  14.3700  15.5300  1.184722\n",
       "2287  5/10/2018  2723.070068  125.180000  14.4100  15.7400  1.191753\n",
       "2288  5/14/2018  2730.129883  124.489998  14.3800  15.5600  1.193118\n",
       "2289  5/16/2018  2725.780029  122.543800  14.4058  15.4542  1.182033"
      ]
     },
     "execution_count": 4,
     "metadata": {},
     "output_type": "execute_result"
    }
   ],
   "source": [
    "# print last 5 rows of the dataframe\n",
    "gold_data.tail()"
   ]
  },
  {
   "cell_type": "code",
   "execution_count": 5,
   "metadata": {
    "colab": {
     "base_uri": "https://localhost:8080/"
    },
    "id": "vgnDjvpocdUp",
    "outputId": "948c9f32-baf2-4da4-c89d-b03ad9954fb4"
   },
   "outputs": [
    {
     "data": {
      "text/plain": [
       "(2290, 6)"
      ]
     },
     "execution_count": 5,
     "metadata": {},
     "output_type": "execute_result"
    }
   ],
   "source": [
    "# number of rows and columns\n",
    "gold_data.shape\n",
    "\n",
    "# shape is used to find the dimension of the data i.e., how many rows and columns we have in our data set\n",
    "# as the output tells we have 2290 rows and 6 columns of data"
   ]
  },
  {
   "cell_type": "code",
   "execution_count": 6,
   "metadata": {
    "colab": {
     "base_uri": "https://localhost:8080/"
    },
    "id": "9SEXC4AWcnDu",
    "outputId": "181d4b21-9ee3-4906-c5e2-0c7b5633a044"
   },
   "outputs": [
    {
     "name": "stdout",
     "output_type": "stream",
     "text": [
      "<class 'pandas.core.frame.DataFrame'>\n",
      "RangeIndex: 2290 entries, 0 to 2289\n",
      "Data columns (total 6 columns):\n",
      " #   Column   Non-Null Count  Dtype  \n",
      "---  ------   --------------  -----  \n",
      " 0   Date     2290 non-null   object \n",
      " 1   SPX      2290 non-null   float64\n",
      " 2   GLD      2290 non-null   float64\n",
      " 3   USO      2290 non-null   float64\n",
      " 4   SLV      2290 non-null   float64\n",
      " 5   EUR/USD  2290 non-null   float64\n",
      "dtypes: float64(5), object(1)\n",
      "memory usage: 107.5+ KB\n"
     ]
    }
   ],
   "source": [
    "# getting some basic informations about the data\n",
    "gold_data.info()\n",
    "\n",
    "# here .inof() function tells us about the general info about our data\n",
    "# column names, if we have any null values and what is the type of that column "
   ]
  },
  {
   "cell_type": "code",
   "execution_count": 7,
   "metadata": {
    "colab": {
     "base_uri": "https://localhost:8080/"
    },
    "id": "tjmFVXi2cv4Q",
    "outputId": "56b7254f-e259-4da9-c98a-0ab8108ec781"
   },
   "outputs": [
    {
     "name": "stdout",
     "output_type": "stream",
     "text": [
      "       Date    SPX    GLD    USO    SLV  EUR/USD\n",
      "0     False  False  False  False  False    False\n",
      "1     False  False  False  False  False    False\n",
      "2     False  False  False  False  False    False\n",
      "3     False  False  False  False  False    False\n",
      "4     False  False  False  False  False    False\n",
      "...     ...    ...    ...    ...    ...      ...\n",
      "2285  False  False  False  False  False    False\n",
      "2286  False  False  False  False  False    False\n",
      "2287  False  False  False  False  False    False\n",
      "2288  False  False  False  False  False    False\n",
      "2289  False  False  False  False  False    False\n",
      "\n",
      "[2290 rows x 6 columns]\n",
      "Getting count of null values: \n",
      " Date       0\n",
      "SPX        0\n",
      "GLD        0\n",
      "USO        0\n",
      "SLV        0\n",
      "EUR/USD    0\n",
      "dtype: int64\n"
     ]
    }
   ],
   "source": [
    "# checking the number of missing values\n",
    "print(gold_data.isnull())\n",
    "\n",
    "# Here we are checking if our data contains null values or not\n",
    "# and we do that using .isnull() function now this function returns True or False as output\n",
    "\n",
    "print('Getting count of null values: \\n',gold_data.isnull().sum())\n",
    "# in order to get the sum of missing values we in turn use .sum() function to get the total number of missing values\n",
    "# in this case we don't have any missing values"
   ]
  },
  {
   "cell_type": "code",
   "execution_count": 8,
   "metadata": {
    "colab": {
     "base_uri": "https://localhost:8080/",
     "height": 300
    },
    "id": "9IcOnRfhc7zv",
    "outputId": "b496683f-423f-4958-e352-4726ad607c09"
   },
   "outputs": [
    {
     "data": {
      "text/html": [
       "<div>\n",
       "<style scoped>\n",
       "    .dataframe tbody tr th:only-of-type {\n",
       "        vertical-align: middle;\n",
       "    }\n",
       "\n",
       "    .dataframe tbody tr th {\n",
       "        vertical-align: top;\n",
       "    }\n",
       "\n",
       "    .dataframe thead th {\n",
       "        text-align: right;\n",
       "    }\n",
       "</style>\n",
       "<table border=\"1\" class=\"dataframe\">\n",
       "  <thead>\n",
       "    <tr style=\"text-align: right;\">\n",
       "      <th></th>\n",
       "      <th>SPX</th>\n",
       "      <th>GLD</th>\n",
       "      <th>USO</th>\n",
       "      <th>SLV</th>\n",
       "      <th>EUR/USD</th>\n",
       "    </tr>\n",
       "  </thead>\n",
       "  <tbody>\n",
       "    <tr>\n",
       "      <th>count</th>\n",
       "      <td>2290.000000</td>\n",
       "      <td>2290.000000</td>\n",
       "      <td>2290.000000</td>\n",
       "      <td>2290.000000</td>\n",
       "      <td>2290.000000</td>\n",
       "    </tr>\n",
       "    <tr>\n",
       "      <th>mean</th>\n",
       "      <td>1654.315776</td>\n",
       "      <td>122.732875</td>\n",
       "      <td>31.842221</td>\n",
       "      <td>20.084997</td>\n",
       "      <td>1.283653</td>\n",
       "    </tr>\n",
       "    <tr>\n",
       "      <th>std</th>\n",
       "      <td>519.111540</td>\n",
       "      <td>23.283346</td>\n",
       "      <td>19.523517</td>\n",
       "      <td>7.092566</td>\n",
       "      <td>0.131547</td>\n",
       "    </tr>\n",
       "    <tr>\n",
       "      <th>min</th>\n",
       "      <td>676.530029</td>\n",
       "      <td>70.000000</td>\n",
       "      <td>7.960000</td>\n",
       "      <td>8.850000</td>\n",
       "      <td>1.039047</td>\n",
       "    </tr>\n",
       "    <tr>\n",
       "      <th>25%</th>\n",
       "      <td>1239.874969</td>\n",
       "      <td>109.725000</td>\n",
       "      <td>14.380000</td>\n",
       "      <td>15.570000</td>\n",
       "      <td>1.171313</td>\n",
       "    </tr>\n",
       "    <tr>\n",
       "      <th>50%</th>\n",
       "      <td>1551.434998</td>\n",
       "      <td>120.580002</td>\n",
       "      <td>33.869999</td>\n",
       "      <td>17.268500</td>\n",
       "      <td>1.303297</td>\n",
       "    </tr>\n",
       "    <tr>\n",
       "      <th>75%</th>\n",
       "      <td>2073.010070</td>\n",
       "      <td>132.840004</td>\n",
       "      <td>37.827501</td>\n",
       "      <td>22.882500</td>\n",
       "      <td>1.369971</td>\n",
       "    </tr>\n",
       "    <tr>\n",
       "      <th>max</th>\n",
       "      <td>2872.870117</td>\n",
       "      <td>184.589996</td>\n",
       "      <td>117.480003</td>\n",
       "      <td>47.259998</td>\n",
       "      <td>1.598798</td>\n",
       "    </tr>\n",
       "  </tbody>\n",
       "</table>\n",
       "</div>"
      ],
      "text/plain": [
       "               SPX          GLD          USO          SLV      EUR/USD\n",
       "count  2290.000000  2290.000000  2290.000000  2290.000000  2290.000000\n",
       "mean   1654.315776   122.732875    31.842221    20.084997     1.283653\n",
       "std     519.111540    23.283346    19.523517     7.092566     0.131547\n",
       "min     676.530029    70.000000     7.960000     8.850000     1.039047\n",
       "25%    1239.874969   109.725000    14.380000    15.570000     1.171313\n",
       "50%    1551.434998   120.580002    33.869999    17.268500     1.303297\n",
       "75%    2073.010070   132.840004    37.827501    22.882500     1.369971\n",
       "max    2872.870117   184.589996   117.480003    47.259998     1.598798"
      ]
     },
     "execution_count": 8,
     "metadata": {},
     "output_type": "execute_result"
    }
   ],
   "source": [
    "# getting the statistical measures of the data\n",
    "gold_data.describe()\n",
    "\n",
    "# describe function gives us the descriptive summary of the data\n",
    "# such as, what is the total count of data \n",
    "# as we know we have 2290 rows in total hence the first row tells us that\n",
    "# next what is the respective mean, standard devation, min value of that particular column, max value etc etc\n",
    "# You will get a idea of this if ou do it manually, in case you have any doubts \n",
    "# Mai toh hu he  :P"
   ]
  },
  {
   "cell_type": "markdown",
   "metadata": {
    "id": "f9SUQ8hodW4b"
   },
   "source": [
    "Correlation: Value ranges between [-1,1]\n",
    "1. Positive Correlation\n",
    "2. Negative Correlation\n",
    "\n",
    "# Next important step is correlation\n",
    "Why correlation is important?\n",
    "One value can have a positive or negative impact on the other value\n",
    "In such cases our analysis might be misleading\n",
    "Hence we should always check correlation\n",
    "\n",
    "A positive correlation means that this linear relationship is positive, and the two variables increase or decrease in the same direction. A negative correlation is just the opposite, wherein the relationship line has a negative slope and the variables change in opposite directions (i.e, one variable decreases while the other increases). No correlation simply means that the variables behave very differently and thus, have no linear relationship.\n",
    "\n",
    "Example: temperature and ice cream sales: the hotter the day, the higher the ice cream sales. This is a positive correlation.\n",
    "\n",
    "Rain is negatively correlated to bicycle traffic. \n",
    "\n"
   ]
  },
  {
   "cell_type": "code",
   "execution_count": 9,
   "metadata": {
    "id": "C3xgji81dJUW"
   },
   "outputs": [],
   "source": [
    "correlation = gold_data.corr()"
   ]
  },
  {
   "cell_type": "code",
   "execution_count": 21,
   "metadata": {},
   "outputs": [],
   "source": [
    "import matplotlib.pyplot as plt\n",
    "plt.show()"
   ]
  },
  {
   "cell_type": "code",
   "execution_count": 24,
   "metadata": {},
   "outputs": [],
   "source": [
    "import matplotlib as mpl\n",
    "import matplotlib.pyplot as plt\n",
    "\n",
    "import seaborn as sns\n"
   ]
  },
  {
   "cell_type": "code",
   "execution_count": 25,
   "metadata": {
    "colab": {
     "base_uri": "https://localhost:8080/",
     "height": 487
    },
    "id": "oOqb9j0Ad-Zx",
    "outputId": "960828fd-1545-4a79-e84f-918f2091ce5a"
   },
   "outputs": [
    {
     "data": {
      "text/plain": [
       "<AxesSubplot:>"
      ]
     },
     "execution_count": 25,
     "metadata": {},
     "output_type": "execute_result"
    },
    {
     "data": {
      "image/png": "[encoded data removed]",
      "text/plain": [
       "<Figure size 800x800 with 2 Axes>"
      ]
     },
     "metadata": {},
     "output_type": "display_data"
    }
   ],
   "source": [
    "# constructing a heatmap to understand the correlatiom\n",
    "plt.figure(figsize = (8,8))\n",
    "sns.heatmap(correlation, cbar=True, square=True, fmt='.1f',annot=True, annot_kws={'size':8}, cmap='Blues')"
   ]
  },
  {
   "cell_type": "code",
   "execution_count": 26,
   "metadata": {
    "colab": {
     "base_uri": "https://localhost:8080/"
    },
    "id": "qtQ_icjRemI4",
    "outputId": "167e15fd-c0bc-4669-b0a5-2558e079c99b"
   },
   "outputs": [
    {
     "name": "stdout",
     "output_type": "stream",
     "text": [
      "SPX        0.049345\n",
      "GLD        1.000000\n",
      "USO       -0.186360\n",
      "SLV        0.866632\n",
      "EUR/USD   -0.024375\n",
      "Name: GLD, dtype: float64\n"
     ]
    }
   ],
   "source": [
    "# correlation values of GLD\n",
    "print(correlation['GLD'])\n",
    "\n",
    "# so from this we can infer that Gold and silver are positively correlated"
   ]
  },
  {
   "cell_type": "code",
   "execution_count": 27,
   "metadata": {
    "colab": {
     "base_uri": "https://localhost:8080/",
     "height": 355
    },
    "id": "TMr-xVEwfIKg",
    "outputId": "3aa904d2-6f3b-40ae-93b3-e0208cab94e3"
   },
   "outputs": [
    {
     "name": "stderr",
     "output_type": "stream",
     "text": [
      "C:\\Users\\Lenovo\\anaconda3\\lib\\site-packages\\seaborn\\distributions.py:2619: FutureWarning: `distplot` is a deprecated function and will be removed in a future version. Please adapt your code to use either `displot` (a figure-level function with similar flexibility) or `histplot` (an axes-level function for histograms).\n",
      "  warnings.warn(msg, FutureWarning)\n"
     ]
    },
    {
     "data": {
      "text/plain": [
       "<AxesSubplot:xlabel='GLD', ylabel='Density'>"
      ]
     },
     "execution_count": 27,
     "metadata": {},
     "output_type": "execute_result"
    },
    {
     "data": {
      "image/png": "[encoded data removed]",
      "text/plain": [
       "<Figure size 640x480 with 1 Axes>"
      ]
     },
     "metadata": {},
     "output_type": "display_data"
    }
   ],
   "source": [
    "# checking the distribution of the GLD Price\n",
    "sns.distplot(gold_data['GLD'],color='green')"
   ]
  },
  {
   "cell_type": "markdown",
   "metadata": {
    "id": "4bdwLbPEfqWI"
   },
   "source": [
    "Splitting the Features and Target"
   ]
  },
  {
   "cell_type": "code",
   "execution_count": 28,
   "metadata": {
    "id": "SJNxCR0vfWxe"
   },
   "outputs": [],
   "source": [
    "X = gold_data.drop(['Date','GLD'],axis=1)\n",
    "Y = gold_data['GLD']"
   ]
  },
  {
   "cell_type": "code",
   "execution_count": 29,
   "metadata": {
    "colab": {
     "base_uri": "https://localhost:8080/"
    },
    "id": "qW9UvLSNf8zH",
    "outputId": "b5234682-4f65-46d7-820a-7051142a8619"
   },
   "outputs": [
    {
     "name": "stdout",
     "output_type": "stream",
     "text": [
      "              SPX        USO      SLV   EUR/USD\n",
      "0     1447.160034  78.470001  15.1800  1.471692\n",
      "1     1447.160034  78.370003  15.2850  1.474491\n",
      "2     1411.630005  77.309998  15.1670  1.475492\n",
      "3     1416.180054  75.500000  15.0530  1.468299\n",
      "4     1390.189941  76.059998  15.5900  1.557099\n",
      "...           ...        ...      ...       ...\n",
      "2285  2671.919922  14.060000  15.5100  1.186789\n",
      "2286  2697.790039  14.370000  15.5300  1.184722\n",
      "2287  2723.070068  14.410000  15.7400  1.191753\n",
      "2288  2730.129883  14.380000  15.5600  1.193118\n",
      "2289  2725.780029  14.405800  15.4542  1.182033\n",
      "\n",
      "[2290 rows x 4 columns]\n"
     ]
    }
   ],
   "source": [
    "print(X)"
   ]
  },
  {
   "cell_type": "code",
   "execution_count": 30,
   "metadata": {
    "colab": {
     "base_uri": "https://localhost:8080/"
    },
    "id": "lKUe3C-qf9y8",
    "outputId": "57dfb9a4-fd91-4d0c-d156-6bf1a51020eb"
   },
   "outputs": [
    {
     "name": "stdout",
     "output_type": "stream",
     "text": [
      "0        84.860001\n",
      "1        85.570000\n",
      "2        85.129997\n",
      "3        84.769997\n",
      "4        86.779999\n",
      "           ...    \n",
      "2285    124.589996\n",
      "2286    124.330002\n",
      "2287    125.180000\n",
      "2288    124.489998\n",
      "2289    122.543800\n",
      "Name: GLD, Length: 2290, dtype: float64\n"
     ]
    }
   ],
   "source": [
    "print(Y)"
   ]
  },
  {
   "cell_type": "markdown",
   "metadata": {
    "id": "nv8UohBVgE1Z"
   },
   "source": [
    "Splitting into Training data and Test Data"
   ]
  },
  {
   "cell_type": "code",
   "execution_count": 31,
   "metadata": {
    "id": "KkrUByFugBUn"
   },
   "outputs": [],
   "source": [
    "# Here we are dividing our total data (we call total data as population) into training and testing data\n",
    "# We use the train_test_split function to achieve this and test_size determines the % of testing data we are using from this total\n",
    "# here we are setting test_size as 0.3, which indicates 30% of the data is spilt into test data and \n",
    "# 70% of data is used in training the model\n",
    "X_train, X_test, Y_train, Y_test = train_test_split(X, Y, test_size = 0.3, random_state=2)"
   ]
  },
  {
   "cell_type": "markdown",
   "metadata": {
    "id": "1vrCHktWgqfi"
   },
   "source": [
    "Model Training:\n",
    "Random Forest Regressor"
   ]
  },
  {
   "cell_type": "code",
   "execution_count": 32,
   "metadata": {
    "id": "N17qRKKGgoaZ"
   },
   "outputs": [],
   "source": [
    "# Here we are defining a RandomForestRegressor and n_estimators is the total number of decision tress we are using\n",
    "# here since our data is less we are using 100 decision trees to train our model on\n",
    "regressor = RandomForestRegressor(n_estimators=100)"
   ]
  },
  {
   "cell_type": "code",
   "execution_count": 33,
   "metadata": {
    "colab": {
     "base_uri": "https://localhost:8080/"
    },
    "id": "DP2he4-PhMso",
    "outputId": "606434d1-5d44-4027-b8b3-954e37a7c356"
   },
   "outputs": [
    {
     "data": {
      "text/plain": [
       "RandomForestRegressor()"
      ]
     },
     "execution_count": 33,
     "metadata": {},
     "output_type": "execute_result"
    }
   ],
   "source": [
    "# training the model\n",
    "regressor.fit(X_train,Y_train)"
   ]
  },
  {
   "cell_type": "markdown",
   "metadata": {
    "id": "SHNFVsr4hbG2"
   },
   "source": [
    "Model Evaluation"
   ]
  },
  {
   "cell_type": "code",
   "execution_count": 34,
   "metadata": {
    "id": "uOLpKKD_hXSl"
   },
   "outputs": [],
   "source": [
    "# prediction on Test Data\n",
    "test_data_prediction = regressor.predict(X_test)"
   ]
  },
  {
   "cell_type": "code",
   "execution_count": 35,
   "metadata": {
    "id": "WSIqrLNdhnOr"
   },
   "outputs": [
    {
     "name": "stdout",
     "output_type": "stream",
     "text": [
      "[168.66029953  82.19959996 115.96689974 127.36340069 120.48500167\n",
      " 154.83239798 150.48730005 126.05569996 117.95059871 125.89530089\n",
      " 116.23660047 171.6091005  142.1332989  167.90299834 115.23530001\n",
      " 117.19300018 137.00960329 170.51980149 159.58390296 159.60679935\n",
      " 155.12130026 125.97110016 175.35759993 157.244404   125.03340096\n",
      "  93.75389907  76.96270008 120.13210021 119.22580033 167.19240074\n",
      "  88.67629877 125.33550116  91.04260048 117.80389971 121.14299925\n",
      " 136.40560188 115.70090093 117.1200005  149.53679918 107.42720086\n",
      " 103.89650158  87.08639764 126.64140006 117.71279919 153.76369951\n",
      " 119.96930016 108.31450081 108.10539854  93.27310008 127.06229796\n",
      "  75.30380014 113.73249929 121.28059989 111.18419918 118.91149873\n",
      " 120.49679977 159.22280053 167.6082018  147.05089723  86.48849977\n",
      "  94.26059977  86.81579886  90.46409995 118.8089009  126.40770066\n",
      " 127.72449972 168.88759977 122.11669944 117.34269907  98.92839915\n",
      " 168.24160164 142.87929772 131.77980225 121.29700218 121.33419944\n",
      " 119.89810074 114.5839016  118.34140044 107.2346011  127.8720012\n",
      " 114.34809969 107.5496996  117.17630062 119.61249869  89.02490021\n",
      "  88.06169837 146.23290119 127.43789968 113.54509995 110.18199818\n",
      " 107.99029906  77.26449893 169.29750123 114.46589918 121.80579911\n",
      " 127.86110238 154.92049922  91.12389897 136.03690078 158.84120434\n",
      " 124.10740066 125.51240045 131.02900104 114.81270108 119.75409986\n",
      "  92.10409973 110.70219883 167.03569842 156.33230061 114.63279986\n",
      " 106.6206013   79.37069998 113.33860012 125.87280067 107.06179919\n",
      " 119.3106011  155.88380339 159.34569909 119.4247999  134.60200281\n",
      " 101.58509979 117.44879789 119.26199993 112.94790096 102.81659899\n",
      " 160.32019774  99.11069978 147.25389914 125.63130104 169.46079931\n",
      " 125.46719874 127.23199862 127.34620192 113.78079908 114.23000136\n",
      " 123.84739924 102.68159933  89.56719922 124.33229916 101.48239929\n",
      " 107.0803993  112.61120079 117.1729005   99.31969898 122.04619991\n",
      " 163.4602994   87.38369824 106.75540004 117.27260097 127.60170165\n",
      " 123.91400102  81.05659931 120.22830074 156.43749863  88.21689905\n",
      " 110.22579937 119.17069885 172.78739816 103.06139892 106.37670003\n",
      " 122.55940037 156.27259826  87.7810981   93.56279983 112.96610043\n",
      " 177.00419976 114.0156     119.33679976  95.64410108 125.37969996\n",
      " 166.34150127 114.84210076 116.91930136  88.10049832 148.28739955\n",
      " 120.50049953  89.64009979 112.7689001  116.42540025 118.804001\n",
      "  87.95389932  94.42559998 116.98369969 118.89180015 120.26970023\n",
      " 126.48009852 121.89289991 152.75769974 165.05400157 118.59539962\n",
      " 120.1972006  148.24059969 117.63469888 173.03319895 105.36899943\n",
      " 105.31830006 148.43179989 113.28070066 124.63270206 147.66520226\n",
      " 119.69210078 115.33540014 112.73110006 113.45450217 141.53420131\n",
      " 117.8563978  102.97710061 115.91480089 103.15730101  98.76399969\n",
      " 117.37680086  90.76909994  91.70010007 152.78099948 102.70129984\n",
      " 154.30510037 114.38270187 139.03940197  89.76199798 115.63549884\n",
      " 112.63250078 122.64280128 121.73589984 165.57990186  92.83599884\n",
      " 135.51170139 121.3566992  120.63260072 104.4789997  142.65020317\n",
      " 122.55289949 116.67490044 113.74400111 127.34219735 122.16509963\n",
      " 125.831399   121.14980069  86.89159856 132.3894013  143.91560241\n",
      "  93.07399932 157.88719968 157.70570412 126.08870008 164.16539958\n",
      " 109.10300025 110.18280031 103.80809823  94.0956017  127.68270257\n",
      " 106.89300045 159.67339946 121.92289977 131.92500124 131.17900015\n",
      " 160.2771997   89.91209809 175.66250204 128.13980052 126.46239901\n",
      "  86.60819938 124.49909946 150.20269769  89.85690011 106.96649998\n",
      " 108.78299984  84.86369913 136.17579994 154.38770048 140.0845038\n",
      "  74.97809993 151.31429961 125.9462007  126.70849973 127.42399872\n",
      " 108.4260994  156.14500151 114.58020114 117.06060137 124.79919968\n",
      " 153.75440181 121.04659991 156.20860005  92.7781998  125.63600087\n",
      " 125.12139963  87.56769934  91.79659947 126.25419959 127.6864026\n",
      " 113.39730165 117.34239749 120.79539945 127.34819801 119.69600081\n",
      " 136.64370089  93.6307984  120.43280056 113.25560106  94.36409941\n",
      " 108.74100003  86.80989913 109.49779909  89.52859964  91.74970075\n",
      " 131.99320193 162.20590097  89.72319899 119.22690066 133.15460216\n",
      " 123.67669988 127.48049914 102.6376992   88.86509847 131.68710057\n",
      " 120.09520107 108.89639978 165.81420138 115.27170089  86.5882986\n",
      " 119.01520044  90.91350017 162.10649998 116.28720017 121.48379996\n",
      " 160.0139976  118.86019996 112.9812993  108.43099858 126.74760049\n",
      "  76.35360057 103.03069973 127.4032028  121.64549944  92.72989868\n",
      " 131.76300027 117.93520071 115.7129998  155.4292012  158.8203006\n",
      " 109.9364996  154.31869762 119.24350092 160.89050128 118.58410049\n",
      " 158.76130058 115.06779933 116.36450022 148.69439886 114.87910078\n",
      " 125.58969879 164.7924994  117.55419991 124.78949903 153.72560268\n",
      " 153.58870249 132.18410057 114.76260033 121.24750215 124.60360058\n",
      "  89.94939931 122.96080011 155.23350219 112.17330078 106.74450025\n",
      " 162.03870155 118.86860001 165.72439925 134.08030164 115.20769992\n",
      " 153.01359872 169.41490277 115.82680008 114.07960105 157.82499909\n",
      "  85.32919837 127.05650083 128.00010087 128.92059977 124.33160051\n",
      " 123.51609958  90.35380064 152.96040044  96.82739989 136.40380035\n",
      "  89.21939923 107.54649973 114.92990059 112.67070125 124.36579959\n",
      "  91.34669902 125.11460083 162.16800079 119.4833992  165.31760145\n",
      " 126.32329856 112.57810017 127.51029889  94.43160164  90.91899974\n",
      " 103.08509928 120.70569965  82.99869924 126.23939995 160.93330468\n",
      " 117.35590092 117.44239933 119.47480056 122.71409969 119.94480088\n",
      " 121.32930018 118.53909988 107.07089995 148.01359948 126.09749876\n",
      " 115.67630058  74.47079994 127.65640013 154.98380121 120.88670032\n",
      " 125.51580078  88.78749944 103.49429812 124.32540035 120.28320001\n",
      "  73.35220108 151.05310142 121.18430038 105.22910009  86.57029776\n",
      " 115.12129873 172.13639682 119.65350031 160.39309863 113.20049921\n",
      " 121.20890068 118.44290119  96.0821998  118.95460059 125.67610016\n",
      " 118.41849947  96.21520169 154.23430167 121.87790002 147.31310044\n",
      " 159.46490393 114.05620027 121.95060003 152.00619881 126.8857005\n",
      " 165.6566007  135.13699999 120.07059977 166.8951986  108.21309962\n",
      " 121.55570038 140.70890184 107.06929887 109.72749965 113.34400066\n",
      "  90.42469889 125.51520054 119.87870094  94.00180173 151.98570017\n",
      " 116.53700041  81.18619979 121.45840022 102.69100098 127.87689914\n",
      " 123.60859873 118.78510053 120.40210021 120.59380024 131.71280174\n",
      " 116.39589853 117.50159846 115.69459871 105.02459991 153.07240192\n",
      " 110.2728973  125.96279964  82.55089959 178.85099819  93.18989993\n",
      " 167.22670095 105.4884007  171.67529837 155.55479985 132.62070165\n",
      " 120.79169957 123.8110988  143.93210099 125.06489913 113.08160089\n",
      " 125.64120079 121.64209928 138.55980133  76.3838004   92.62509982\n",
      " 113.86659877 121.29109953 127.56429891 122.06890094 126.13340148\n",
      " 122.26910044 119.35960057 104.08539935 118.38159926  85.25559984\n",
      "  92.67800097 121.7856001  118.54939978  92.49710117 125.34830082\n",
      "  97.15529879 104.63139977  89.5005993  150.02420066 108.83109971\n",
      " 120.36740092  91.70960088 118.80449967 128.44959815 112.01759941\n",
      " 155.98110129 151.0714019  108.67620137  96.51589954 118.64500007\n",
      " 124.97690116  80.61759898 116.34000071  93.04229922 141.17230193\n",
      " 107.9829998  106.41550095  88.50199931 117.39999971 110.51309868\n",
      " 122.00180051 135.98880094 115.93570074 119.09880034 156.6735999\n",
      " 106.93090138  96.22680118 135.23290143 128.84180186 122.86790025\n",
      " 119.92460115 115.93170033 102.63850138 118.87659905 120.80230106\n",
      " 121.67950063 156.09360135  87.32819771 163.30200069 121.4049994\n",
      " 118.8880001  156.4740032  159.38290103 141.41149769 114.92709941\n",
      " 109.30820038 126.48089862 149.40030196  94.27970145 115.54150077\n",
      " 122.11199967 121.62779901  87.22739803 130.3489011  130.86740322\n",
      " 122.60879967 113.15970148 109.05059952 154.01330218 111.86910037\n",
      " 113.38540056 118.99609993 113.89920153 117.77579979 124.35359971\n",
      " 125.7001     134.97499776 118.22420072  91.32859873 118.92860039\n",
      " 119.09390174  87.81049821 119.26319922 116.74140147 117.60529914\n",
      " 117.28569905 159.82550016 116.94660046  86.18510106 108.24609865\n",
      " 123.90259955 154.38970009 117.57920056 120.89760027  85.95860081\n",
      " 127.55430016 145.53710132 127.02019954 162.15000019 118.17310052\n",
      " 117.30979879 118.25260005 164.77880211 125.72220034  98.90749962\n",
      "  89.60489941 107.04210111 123.79889998 118.73739977 119.94300037\n",
      "  90.06549902  92.66689902  89.27119885 108.84730003  95.47090081\n",
      " 147.82620061 178.96019919 154.41110003 154.77240148 121.00299974\n",
      " 139.87940156  86.94039868 124.0402     119.38820095  97.19550129\n",
      " 124.9816006   91.81840104  92.84779952 102.69899903 117.36350086\n",
      "  87.75099904 153.80789914 111.07900095 109.33879886 126.20980028\n",
      " 169.688702    72.54330025 145.08120035 124.55940137 112.4419006\n",
      " 129.12909887  90.79869877 126.54399994 158.00860005 121.0977013\n",
      " 121.0574984  124.94420069 146.64940001 119.98619835 124.2572994\n",
      " 127.87380094 122.71169988 144.44769903 152.60799874 120.22410053\n",
      " 148.26479973 117.05539912  85.9364988  120.67290001 124.7568008\n",
      " 126.25350031 164.54359748 123.13829991 150.40139981 125.5175998\n",
      "  82.16089837 156.9084979  127.47670026  88.26709826 105.09310002\n",
      " 121.82789914 135.88759744 168.22049587 121.78010001 114.80400032\n",
      "  85.53059992 111.48929981]\n"
     ]
    }
   ],
   "source": [
    "print(test_data_prediction)"
   ]
  },
  {
   "cell_type": "code",
   "execution_count": 36,
   "metadata": {
    "colab": {
     "base_uri": "https://localhost:8080/"
    },
    "id": "fu7A1hhMhqa9",
    "outputId": "65885258-105f-4520-c41c-c6bf7f1c476a"
   },
   "outputs": [
    {
     "name": "stdout",
     "output_type": "stream",
     "text": [
      "R squared :  0.989154852548043\n"
     ]
    }
   ],
   "source": [
    "# R squared \n",
    "r2_score = metrics.r2_score(Y_test, test_data_prediction)\n",
    "print(\"R squared : \", r2_score)\n",
    "\n",
    "# r2_score (coefficient of determination) regression score function. Best possible score is 1.0"
   ]
  },
  {
   "cell_type": "markdown",
   "metadata": {
    "id": "f1fiqOMkiZNL"
   },
   "source": [
    "Compare the Actual Values and Predicted Values in a Plot"
   ]
  },
  {
   "cell_type": "code",
   "execution_count": 37,
   "metadata": {
    "id": "QoC4g_tBiE4A"
   },
   "outputs": [],
   "source": [
    "Y_test = list(Y_test)"
   ]
  },
  {
   "cell_type": "code",
   "execution_count": 38,
   "metadata": {
    "colab": {
     "base_uri": "https://localhost:8080/",
     "height": 295
    },
    "id": "sMSVMVtFijxo",
    "outputId": "cfc5c274-0aaa-495f-92db-0f9208cb8c39"
   },
   "outputs": [
    {
     "data": {
      "image/png": "[encoded data removed]",
      "text/plain": [
       "<Figure size 640x480 with 1 Axes>"
      ]
     },
     "metadata": {},
     "output_type": "display_data"
    }
   ],
   "source": [
    "plt.plot(Y_test, color='red', label = 'Actual Value')\n",
    "plt.plot(test_data_prediction, color='green', label='Predicted Value')\n",
    "plt.title('Actual Price vs Predicted Price')\n",
    "plt.xlabel('Number of values')\n",
    "plt.ylabel('GLD Price')\n",
    "plt.legend()\n",
    "plt.show()"
   ]
  },
  {
   "cell_type": "code",
   "execution_count": null,
   "metadata": {},
   "outputs": [],
   "source": []
  },
  {
   "cell_type": "code",
   "execution_count": null,
   "metadata": {},
   "outputs": [],
   "source": []
  }
 ],
 "metadata": {
  "colab": {
   "collapsed_sections": [],
   "provenance": []
  },
  "kernelspec": {
   "display_name": "Python 3 (ipykernel)",
   "language": "python",
   "name": "python3"
  },
  "language_info": {
   "codemirror_mode": {
    "name": "ipython",
    "version": 3
   },
   "file_extension": ".py",
   "mimetype": "text/x-python",
   "name": "python",
   "nbconvert_exporter": "python",
   "pygments_lexer": "ipython3",
   "version": "3.9.13"
  }
 },
 "nbformat": 4,
 "nbformat_minor": 1
}
